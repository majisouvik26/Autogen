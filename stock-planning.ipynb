{
 "cells": [
  {
   "cell_type": "code",
   "execution_count": null,
   "metadata": {},
   "outputs": [],
   "source": [
    "from utils import get_openai_api_key\n",
    "OPENAI_API_KEY = get_openai_api_key()\n",
    "llm_config = {\"model\": \"gpt-4-turbo\"}\n"
   ]
  },
  {
   "cell_type": "code",
   "execution_count": null,
   "metadata": {},
   "outputs": [],
   "source": [
    "task = \"Write a blogpost about the stock price performance of \"\\\n",
    "\"Nvidia in the past month. Today's date is 2024-04-23.\""
   ]
  },
  {
   "cell_type": "markdown",
   "metadata": {},
   "source": [
    "Group Chat"
   ]
  },
  {
   "cell_type": "code",
   "execution_count": null,
   "metadata": {},
   "outputs": [],
   "source": [
    "import autogen"
   ]
  },
  {
   "cell_type": "code",
   "execution_count": null,
   "metadata": {},
   "outputs": [],
   "source": [
    "user_proxy = autogen.ConversableAgent(\n",
    "    name=\"Admin\",\n",
    "    system_message=\"Give the task, and send \"\n",
    "    \"instructions to writer to refine the blog post.\",\n",
    "    code_execution_config=False,\n",
    "    llm_config=llm_config,\n",
    "    human_input_mode=\"ALWAYS\",\n",
    ")"
   ]
  },
  {
   "cell_type": "code",
   "execution_count": null,
   "metadata": {},
   "outputs": [],
   "source": [
    "planner = autogen.ConversableAgent(\n",
    "    name=\"Planner\",\n",
    "    system_message=\"Given a task, please determine \"\n",
    "    \"what information is needed to complete the task. \"\n",
    "    \"Please note that the information will all be retrieved using\"\n",
    "    \" Python code. Please only suggest information that can be \"\n",
    "    \"retrieved using Python code. \"\n",
    "    \"After each step is done by others, check the progress and \"\n",
    "    \"instruct the remaining steps. If a step fails, try to \"\n",
    "    \"workaround\",\n",
    "    description=\"Planner. Given a task, determine what \"\n",
    "    \"information is needed to complete the task. \"\n",
    "    \"After each step is done by others, check the progress and \"\n",
    "    \"instruct the remaining steps\",\n",
    "    llm_config=llm_config,\n",
    ")"
   ]
  },
  {
   "cell_type": "code",
   "execution_count": null,
   "metadata": {},
   "outputs": [],
   "source": [
    "engineer = autogen.AssistantAgent(\n",
    "    name=\"Engineer\",\n",
    "    llm_config=llm_config,\n",
    "    description=\"An engineer that writes code based on the plan\"\n",
    "    \"provided by the planner.\",\n",
    ")"
   ]
  },
  {
   "cell_type": "code",
   "execution_count": null,
   "metadata": {},
   "outputs": [],
   "source": [
    "executor = autogen.ConversableAgent(\n",
    "    name=\"Executor\",\n",
    "    system_message=\"Execute the code written by the \"\n",
    "    \"engineer and report the result.\",\n",
    "    human_input_mode=\"NEVER\",\n",
    "    code_execution_config={\n",
    "        \"last_n_messages\": 3,\n",
    "        \"work_dir\": \"coding\",\n",
    "        \"use_docker\": False,\n",
    "    },\n",
    ")"
   ]
  },
  {
   "cell_type": "code",
   "execution_count": null,
   "metadata": {},
   "outputs": [],
   "source": [
    "writer = autogen.ConversableAgent(\n",
    "    name=\"Writer\",\n",
    "    llm_config=llm_config,\n",
    "    system_message=\"Writer.\"\n",
    "    \"Please write blogs in markdown format (with relevant titles)\"\n",
    "    \" and put the content in pseudo ```md``` code block. \"\n",
    "    \"You take feedback from the admin and refine your blog.\",\n",
    "    description=\"Writer.\"\n",
    "    \"Write blogs based on the code execution results and take \"\n",
    "    \"feedback from the admin to refine the blog.\"\n",
    ")"
   ]
  },
  {
   "cell_type": "code",
   "execution_count": null,
   "metadata": {},
   "outputs": [],
   "source": [
    "groupchat = autogen.GroupChat(\n",
    "    agents=[user_proxy, engineer, writer, executor, planner],\n",
    "    messages=[],\n",
    "    max_round=10,\n",
    ")"
   ]
  },
  {
   "cell_type": "code",
   "execution_count": null,
   "metadata": {},
   "outputs": [],
   "source": [
    "manager = autogen.GroupChatManager(\n",
    "    groupchat=groupchat, llm_config=llm_config\n",
    ")\n"
   ]
  },
  {
   "cell_type": "code",
   "execution_count": null,
   "metadata": {},
   "outputs": [],
   "source": [
    "groupchat_result = user_proxy.initiate_chat(\n",
    "    manager,\n",
    "    message=task,\n",
    ")"
   ]
  },
  {
   "cell_type": "markdown",
   "metadata": {},
   "source": [
    "Now Let's use a speaker selection policy"
   ]
  },
  {
   "cell_type": "code",
   "execution_count": null,
   "metadata": {},
   "outputs": [],
   "source": [
    "user_proxy = autogen.ConversableAgent(\n",
    "    name=\"Admin\",\n",
    "    system_message=\"Give the task, and send \"\n",
    "    \"instructions to writer to refine the blog post.\",\n",
    "    code_execution_config=False,\n",
    "    llm_config=llm_config,\n",
    "    human_input_mode=\"ALWAYS\",\n",
    ")\n",
    "\n",
    "planner = autogen.ConversableAgent(\n",
    "    name=\"Planner\",\n",
    "    system_message=\"Given a task, please determine \"\n",
    "    \"what information is needed to complete the task. \"\n",
    "    \"Please note that the information will all be retrieved using\"\n",
    "    \" Python code. Please only suggest information that can be \"\n",
    "    \"retrieved using Python code. \"\n",
    "    \"After each step is done by others, check the progress and \"\n",
    "    \"instruct the remaining steps. If a step fails, try to \"\n",
    "    \"workaround\",\n",
    "    description=\"Given a task, determine what \"\n",
    "    \"information is needed to complete the task. \"\n",
    "    \"After each step is done by others, check the progress and \"\n",
    "    \"instruct the remaining steps\",\n",
    "    llm_config=llm_config,\n",
    ")\n",
    "\n",
    "engineer = autogen.AssistantAgent(\n",
    "    name=\"Engineer\",\n",
    "    llm_config=llm_config,\n",
    "    description=\"Write code based on the plan \"\n",
    "    \"provided by the planner.\",\n",
    ")\n",
    "\n",
    "writer = autogen.ConversableAgent(\n",
    "    name=\"Writer\",\n",
    "    llm_config=llm_config,\n",
    "    system_message=\"Writer. \"\n",
    "    \"Please write blogs in markdown format (with relevant titles)\"\n",
    "    \" and put the content in pseudo ```md``` code block. \"\n",
    "    \"You take feedback from the admin and refine your blog.\",\n",
    "    description=\"After all the info is available, \"\n",
    "    \"write blogs based on the code execution results and take \"\n",
    "    \"feedback from the admin to refine the blog. \",\n",
    ")\n",
    "\n",
    "executor = autogen.ConversableAgent(\n",
    "    name=\"Executor\",\n",
    "    description=\"Execute the code written by the \"\n",
    "    \"engineer and report the result.\",\n",
    "    human_input_mode=\"NEVER\",\n",
    "    code_execution_config={\n",
    "        \"last_n_messages\": 3,\n",
    "        \"work_dir\": \"coding\",\n",
    "        \"use_docker\": False,\n",
    "    },\n",
    ")"
   ]
  },
  {
   "cell_type": "code",
   "execution_count": null,
   "metadata": {},
   "outputs": [],
   "source": [
    "groupchat = autogen.GroupChat(\n",
    "    agents=[user_proxy, engineer, writer, executor, planner],\n",
    "    messages=[],\n",
    "    max_round=10,\n",
    "    allowed_or_disallowed_speaker_transitions={\n",
    "        user_proxy: [engineer, writer, executor, planner],\n",
    "        engineer: [user_proxy, executor],\n",
    "        writer: [user_proxy, planner],\n",
    "        executor: [user_proxy, engineer, planner],\n",
    "        planner: [user_proxy, engineer, writer],\n",
    "    },\n",
    "    speaker_transitions_type=\"allowed\",\n",
    ")"
   ]
  },
  {
   "cell_type": "code",
   "execution_count": null,
   "metadata": {},
   "outputs": [],
   "source": [
    "manager = autogen.GroupChatManager(\n",
    "    groupchat=groupchat, llm_config=llm_config\n",
    ")\n",
    "\n",
    "groupchat_result = user_proxy.initiate_chat(\n",
    "    manager,\n",
    "    message=task,\n",
    ")"
   ]
  },
  {
   "cell_type": "code",
   "execution_count": null,
   "metadata": {},
   "outputs": [],
   "source": []
  }
 ],
 "metadata": {
  "kernelspec": {
   "display_name": "Python 3",
   "language": "python",
   "name": "python3"
  },
  "language_info": {
   "codemirror_mode": {
    "name": "ipython",
    "version": 3
   },
   "file_extension": ".py",
   "mimetype": "text/x-python",
   "name": "python",
   "nbconvert_exporter": "python",
   "pygments_lexer": "ipython3",
   "version": "3.11.9"
  }
 },
 "nbformat": 4,
 "nbformat_minor": 2
}
