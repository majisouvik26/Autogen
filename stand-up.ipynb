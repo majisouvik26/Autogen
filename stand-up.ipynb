{
 "cells": [
  {
   "cell_type": "code",
   "execution_count": 9,
   "metadata": {},
   "outputs": [],
   "source": [
    "from utils import get_openai_api_key\n",
    "OPENAI_API_KEY = get_openai_api_key()\n",
    "llm_config = {\"model\": \"gpt-3.5-turbo\"}\n"
   ]
  },
  {
   "cell_type": "code",
   "execution_count": 10,
   "metadata": {},
   "outputs": [
    {
     "name": "stdout",
     "output_type": "stream",
     "text": [
      "[autogen.oai.client: 05-29 16:15:03] {129} WARNING - The API key specified is not a valid OpenAI format; it won't work with the OpenAI-hosted model.\n"
     ]
    }
   ],
   "source": [
    "from autogen import ConversableAgent\n",
    "\n",
    "agent = ConversableAgent(\n",
    "    name=\"chatbot\",\n",
    "    llm_config=llm_config,\n",
    "    human_input_mode=\"NEVER\",\n",
    ")"
   ]
  },
  {
   "cell_type": "code",
   "execution_count": 11,
   "metadata": {},
   "outputs": [
    {
     "name": "stdout",
     "output_type": "stream",
     "text": [
      "Why couldn't the bicycle stand up by itself? Because it was two tired!\n"
     ]
    }
   ],
   "source": [
    "reply = agent.generate_reply(\n",
    "    messages=[{\"content\": \"Tell me a joke.\", \"role\": \"user\"}]\n",
    ")\n",
    "print(reply) # basic joke generation"
   ]
  },
  {
   "cell_type": "code",
   "execution_count": 12,
   "metadata": {},
   "outputs": [
    {
     "name": "stdout",
     "output_type": "stream",
     "text": [
      "Of course! Which joke would you like me to repeat for you?\n"
     ]
    }
   ],
   "source": [
    "reply = agent.generate_reply(\n",
    "    messages=[{\"content\": \"Repeat the joke.\", \"role\": \"user\"}]\n",
    ")\n",
    "print(reply) # it didn't had the memory"
   ]
  },
  {
   "cell_type": "markdown",
   "metadata": {},
   "source": [
    "CONVERSATION"
   ]
  },
  {
   "cell_type": "code",
   "execution_count": 13,
   "metadata": {},
   "outputs": [
    {
     "name": "stdout",
     "output_type": "stream",
     "text": [
      "[autogen.oai.client: 05-29 16:22:20] {129} WARNING - The API key specified is not a valid OpenAI format; it won't work with the OpenAI-hosted model.\n",
      "[autogen.oai.client: 05-29 16:22:20] {129} WARNING - The API key specified is not a valid OpenAI format; it won't work with the OpenAI-hosted model.\n"
     ]
    }
   ],
   "source": [
    "Sahani = ConversableAgent(\n",
    "    name=\"Sahani\",\n",
    "    system_message=\n",
    "    \"Your name is Sahani and you are a stand-up comedian.\",\n",
    "    llm_config=llm_config,\n",
    "    human_input_mode=\"NEVER\",\n",
    ")\n",
    "\n",
    "Hitesh = ConversableAgent(\n",
    "    name=\"Hitesh\",\n",
    "    system_message=\n",
    "    \"Your name is Hitesh and you are a stand-up comedian. \"\n",
    "    \"Start the next joke from the punchline of the previous joke.\",\n",
    "    llm_config=llm_config,\n",
    "    human_input_mode=\"NEVER\",\n",
    ")"
   ]
  },
  {
   "cell_type": "code",
   "execution_count": 14,
   "metadata": {},
   "outputs": [
    {
     "name": "stdout",
     "output_type": "stream",
     "text": [
      "\u001b[33mHitesh\u001b[0m (to Sahani):\n",
      "\n",
      "I'm Hitesh. Sahani, let's start stand-up.\n",
      "\n",
      "--------------------------------------------------------------------------------\n",
      "\u001b[33mSahani\u001b[0m (to Hitesh):\n",
      "\n",
      "Great! Here we go!\n",
      "\n",
      "---\n",
      "\n",
      "Sahani: Hey everyone! How's everyone feeling tonight? \n",
      "\n",
      "Audience: *cheers*\n",
      "\n",
      "Sahani: So, let me tell you a bit about myself. I'm Sahani, and I have a love-hate relationship with technology. I mean, why do I need a password that's so complex even I can't remember it? And don't get me started on autocorrect. It's like my phone is playing a game of \"Guess the Word\" and it's always losing!\n",
      "\n",
      "---\n",
      "\n",
      "Sahani: Speaking of technology, have you ever tried to have a serious conversation with someone while they're texting? It's like talking to a robot that only speaks in emojis. I'm pouring my heart out, and they reply with a thumbs up? Is that all I'm worth, a thumbs up?\n",
      "\n",
      "Audience: *laughs*\n",
      "\n",
      "Sahani: And don't even get me started on group chats. It's like a never-ending comedy show that you can't leave. You mute it for one hour, and it's like opening Pandora's box when you check back in!\n",
      "\n",
      "---\n",
      "\n",
      "Sahani: You know what else gets me? Online shopping. It's like a never-ending cycle of adding things to your cart, deleting things from your cart, and then crying when you see your credit card bill. I mean, who needs five different shades of red lipstick? Apparently, I do at 3 am!\n",
      "\n",
      "Audience: *laughs*\n",
      "\n",
      "Sahani: But hey, at least I can say I'm supporting the economy, one impulse buy at a time!\n",
      "\n",
      "---\n",
      "\n",
      "Sahani: Alright, I'll leave you all with this thought: Life is like a stand-up comedy show. Sometimes you bomb, sometimes you kill, but at the end of the day, if you can make someone smile, it's all worth it. So, keep laughing, keep living, and remember, it's okay to laugh at yourself once in a while. Thank you all, you've been a fantastic audience!\n",
      "\n",
      "Audience: *applause and cheers*\n",
      "\n",
      "Sahani: Goodnight, everyone!\n",
      "\n",
      "---\n",
      "\n",
      "How was that for a quick stand-up session, Hitesh?\n",
      "\n",
      "--------------------------------------------------------------------------------\n",
      "\u001b[33mHitesh\u001b[0m (to Sahani):\n",
      "\n",
      "Haha, Sahani, that was a great set! You really had the audience cracking up with those technology jokes. I especially loved the part about group chats being like Pandora's box that you can't escape. It's so true! Let me continue the fun with a joke of my own:\n",
      "\n",
      "---\n",
      "\n",
      "Hitesh: Have you ever noticed how every time you try to take a nap, it's like the universe decides to play the loudest construction noises outside your window? It's like they have a special alert system that goes off the moment you close your eyes! It's a conspiracy, I tell you. I bet they have a secret society of jackhammers and leaf blowers just waiting to sabotage your sleep!\n",
      "\n",
      "--------------------------------------------------------------------------------\n",
      "\u001b[33mSahani\u001b[0m (to Hitesh):\n",
      "\n",
      "Haha, that's hilarious, Hitesh! The struggle of trying to nap peacefully is just too real. It's like the universe has a personal vendetta against our naps! Keep the jokes coming, this stand-up collab is shaping up to be a comedy goldmine!\n",
      "\n",
      "--------------------------------------------------------------------------------\n"
     ]
    }
   ],
   "source": [
    "chat_result = Hitesh.initiate_chat(\n",
    "    recipient=Sahani, \n",
    "    message=\"I'm Hitesh. Sahani, let's start stand-up.\",\n",
    "    max_turns=2,\n",
    ")"
   ]
  },
  {
   "cell_type": "code",
   "execution_count": 15,
   "metadata": {},
   "outputs": [
    {
     "name": "stdout",
     "output_type": "stream",
     "text": [
      "[{'content': \"I'm Hitesh. Sahani, let's start stand-up.\", 'role': 'assistant'},\n",
      " {'content': 'Great! Here we go!\\n'\n",
      "             '\\n'\n",
      "             '---\\n'\n",
      "             '\\n'\n",
      "             \"Sahani: Hey everyone! How's everyone feeling tonight? \\n\"\n",
      "             '\\n'\n",
      "             'Audience: *cheers*\\n'\n",
      "             '\\n'\n",
      "             \"Sahani: So, let me tell you a bit about myself. I'm Sahani, and \"\n",
      "             'I have a love-hate relationship with technology. I mean, why do '\n",
      "             \"I need a password that's so complex even I can't remember it? \"\n",
      "             \"And don't get me started on autocorrect. It's like my phone is \"\n",
      "             'playing a game of \"Guess the Word\" and it\\'s always losing!\\n'\n",
      "             '\\n'\n",
      "             '---\\n'\n",
      "             '\\n'\n",
      "             'Sahani: Speaking of technology, have you ever tried to have a '\n",
      "             \"serious conversation with someone while they're texting? It's \"\n",
      "             \"like talking to a robot that only speaks in emojis. I'm pouring \"\n",
      "             \"my heart out, and they reply with a thumbs up? Is that all I'm \"\n",
      "             'worth, a thumbs up?\\n'\n",
      "             '\\n'\n",
      "             'Audience: *laughs*\\n'\n",
      "             '\\n'\n",
      "             \"Sahani: And don't even get me started on group chats. It's like \"\n",
      "             \"a never-ending comedy show that you can't leave. You mute it for \"\n",
      "             \"one hour, and it's like opening Pandora's box when you check \"\n",
      "             'back in!\\n'\n",
      "             '\\n'\n",
      "             '---\\n'\n",
      "             '\\n'\n",
      "             \"Sahani: You know what else gets me? Online shopping. It's like a \"\n",
      "             'never-ending cycle of adding things to your cart, deleting '\n",
      "             'things from your cart, and then crying when you see your credit '\n",
      "             'card bill. I mean, who needs five different shades of red '\n",
      "             'lipstick? Apparently, I do at 3 am!\\n'\n",
      "             '\\n'\n",
      "             'Audience: *laughs*\\n'\n",
      "             '\\n'\n",
      "             \"Sahani: But hey, at least I can say I'm supporting the economy, \"\n",
      "             'one impulse buy at a time!\\n'\n",
      "             '\\n'\n",
      "             '---\\n'\n",
      "             '\\n'\n",
      "             \"Sahani: Alright, I'll leave you all with this thought: Life is \"\n",
      "             'like a stand-up comedy show. Sometimes you bomb, sometimes you '\n",
      "             'kill, but at the end of the day, if you can make someone smile, '\n",
      "             \"it's all worth it. So, keep laughing, keep living, and remember, \"\n",
      "             \"it's okay to laugh at yourself once in a while. Thank you all, \"\n",
      "             \"you've been a fantastic audience!\\n\"\n",
      "             '\\n'\n",
      "             'Audience: *applause and cheers*\\n'\n",
      "             '\\n'\n",
      "             'Sahani: Goodnight, everyone!\\n'\n",
      "             '\\n'\n",
      "             '---\\n'\n",
      "             '\\n'\n",
      "             'How was that for a quick stand-up session, Hitesh?',\n",
      "  'role': 'user'},\n",
      " {'content': 'Haha, Sahani, that was a great set! You really had the audience '\n",
      "             'cracking up with those technology jokes. I especially loved the '\n",
      "             \"part about group chats being like Pandora's box that you can't \"\n",
      "             \"escape. It's so true! Let me continue the fun with a joke of my \"\n",
      "             'own:\\n'\n",
      "             '\\n'\n",
      "             '---\\n'\n",
      "             '\\n'\n",
      "             'Hitesh: Have you ever noticed how every time you try to take a '\n",
      "             \"nap, it's like the universe decides to play the loudest \"\n",
      "             \"construction noises outside your window? It's like they have a \"\n",
      "             'special alert system that goes off the moment you close your '\n",
      "             \"eyes! It's a conspiracy, I tell you. I bet they have a secret \"\n",
      "             'society of jackhammers and leaf blowers just waiting to sabotage '\n",
      "             'your sleep!',\n",
      "  'role': 'assistant'},\n",
      " {'content': \"Haha, that's hilarious, Hitesh! The struggle of trying to nap \"\n",
      "             \"peacefully is just too real. It's like the universe has a \"\n",
      "             'personal vendetta against our naps! Keep the jokes coming, this '\n",
      "             'stand-up collab is shaping up to be a comedy goldmine!',\n",
      "  'role': 'user'}]\n"
     ]
    }
   ],
   "source": [
    "import pprint\n",
    "\n",
    "pprint.pprint(chat_result.chat_history)"
   ]
  },
  {
   "cell_type": "code",
   "execution_count": 16,
   "metadata": {},
   "outputs": [
    {
     "name": "stdout",
     "output_type": "stream",
     "text": [
      "{'usage_excluding_cached_inference': {'gpt-3.5-turbo-0125': {'completion_tokens': 653,\n",
      "                                                             'cost': 0.001573,\n",
      "                                                             'prompt_tokens': 1187,\n",
      "                                                             'total_tokens': 1840},\n",
      "                                      'total_cost': 0.001573},\n",
      " 'usage_including_cached_inference': {'gpt-3.5-turbo-0125': {'completion_tokens': 653,\n",
      "                                                             'cost': 0.001573,\n",
      "                                                             'prompt_tokens': 1187,\n",
      "                                                             'total_tokens': 1840},\n",
      "                                      'total_cost': 0.001573}}\n"
     ]
    }
   ],
   "source": [
    "pprint.pprint(chat_result.cost)"
   ]
  },
  {
   "cell_type": "code",
   "execution_count": 17,
   "metadata": {},
   "outputs": [
    {
     "name": "stdout",
     "output_type": "stream",
     "text": [
      "(\"Haha, that's hilarious, Hitesh! The struggle of trying to nap peacefully is \"\n",
      " \"just too real. It's like the universe has a personal vendetta against our \"\n",
      " 'naps! Keep the jokes coming, this stand-up collab is shaping up to be a '\n",
      " 'comedy goldmine!')\n"
     ]
    }
   ],
   "source": [
    "pprint.pprint(chat_result.summary)"
   ]
  },
  {
   "cell_type": "code",
   "execution_count": 18,
   "metadata": {},
   "outputs": [
    {
     "name": "stdout",
     "output_type": "stream",
     "text": [
      "\u001b[33mHitesh\u001b[0m (to Sahani):\n",
      "\n",
      "I'm Hitesh. Sahani, let's start the stand-up.\n",
      "\n",
      "--------------------------------------------------------------------------------\n",
      "\u001b[33mSahani\u001b[0m (to Hitesh):\n",
      "\n",
      "Sure, let's get this show on the road! So, the other day I went to the gym for the first time in months. As soon as I walked in, the receptionist looked at me and said, \"Long time no see...\" I was like, \"Yeah, I've been working out... my Netflix subscription.\"\n",
      "\n",
      "I realized I need to get in better shape though. I mean, my idea of a workout is lifting a fork to my mouth. But hey, at least I'm consistent!\n",
      "\n",
      "I recently tried a new diet where you only eat what your ancestors could have eaten. Turns out my ancestors loved pizza and chocolate cake.\n",
      "\n",
      "I also tried to cut out carbs, but then I realized that carbs spell \"crabs\" backwards, and that's just not a life I want to live.\n",
      "\n",
      "I'll tell you what though, the one workout I can commit to is scrolling through my phone. I must have burned at least three calories by now.\n",
      "\n",
      "But hey, I'm trying to be more positive. Like they say, \"You are what you eat.\" So I'm just going to think of myself as a snack. A whole meal, actually. Maybe even a buffet.\n",
      "\n",
      "Thank you, folks! You've been a great audience. Let's give a big hand for Hitesh for being such a good sport tonight!\n",
      "\n",
      "--------------------------------------------------------------------------------\n",
      "\u001b[33mHitesh\u001b[0m (to Sahani):\n",
      "\n",
      "Thank you, thank you! And let's give it up for our previous comedian who had us cracking up! Speaking of being a whole buffet, I recently went on a date with a girl who called me a snack. But I think she might have meant it in more of a vending machine kind of way.\n",
      "\n",
      "--------------------------------------------------------------------------------\n",
      "\u001b[33mSahani\u001b[0m (to Hitesh):\n",
      "\n",
      "Haha, sounds like you're always ready for a good laugh, Hitesh! It's all about finding the humor in life, even when it comes to dating mishaps. Just remember, if she sees you as a vending machine snack, you better make sure you're stocked with all the good stuff!\n",
      "\n",
      "Dating can be tough though. I once tried a dating app and got matched with my neighbor. Awkward, right? Now every time I take out the trash, I have to swipe left just to avoid eye contact.\n",
      "\n",
      "But hey, I'm optimistic about dating. They say there are plenty of fish in the sea, but I think I might be more of a cat person. You know, I like my personal space and I avoid commitment at all costs.\n",
      "\n",
      "Speaking of cats, I think my spirit animal is a cat. I love napping, I'm always curious, and I can never resist a good box.\n",
      "\n",
      "So, folks, remember, when life gives you lemons, make a joke out of it! Thank you, Hitesh, for sharing your dating woes with us. Let's keep the laughter rolling!\n",
      "\n",
      "--------------------------------------------------------------------------------\n"
     ]
    }
   ],
   "source": [
    "chat_result = Hitesh.initiate_chat(\n",
    "    Sahani, \n",
    "    message=\"I'm Hitesh. Sahani, let's start the stand-up.\", \n",
    "    max_turns=2, \n",
    "    summary_method=\"reflection_with_llm\",\n",
    "    summary_prompt=\"Summarize the conversation\",\n",
    ") # better summarization"
   ]
  },
  {
   "cell_type": "code",
   "execution_count": 19,
   "metadata": {},
   "outputs": [
    {
     "name": "stdout",
     "output_type": "stream",
     "text": [
      "(\"Finding humor in life's experiences, like dating mishaps, can help us \"\n",
      " 'navigate through challenges and connect with others through laughter.')\n"
     ]
    }
   ],
   "source": [
    "pprint.pprint(chat_result.summary)"
   ]
  },
  {
   "cell_type": "code",
   "execution_count": 20,
   "metadata": {},
   "outputs": [
    {
     "name": "stdout",
     "output_type": "stream",
     "text": [
      "[autogen.oai.client: 05-29 16:28:36] {129} WARNING - The API key specified is not a valid OpenAI format; it won't work with the OpenAI-hosted model.\n",
      "[autogen.oai.client: 05-29 16:28:36] {129} WARNING - The API key specified is not a valid OpenAI format; it won't work with the OpenAI-hosted model.\n"
     ]
    }
   ],
   "source": [
    "Sahani = ConversableAgent(\n",
    "    name=\"Sahani\",\n",
    "    system_message=\n",
    "    \"Your name is Sahani and you are a stand-up comedian. \"\n",
    "    \"When you're ready to end the conversation, say 'I gotta go'.\",\n",
    "    llm_config=llm_config,\n",
    "    human_input_mode=\"NEVER\",\n",
    "    is_termination_msg=lambda msg: \"I gotta go\" in msg[\"content\"],\n",
    ")\n",
    "\n",
    "Hitesh = ConversableAgent(\n",
    "    name=\"Hitesh\",\n",
    "    system_message=\n",
    "    \"Your name is Hitesh and you are a stand-up comedian. \"\n",
    "    \"When you're ready to end the conversation, say 'I gotta go'.\",\n",
    "    llm_config=llm_config,\n",
    "    human_input_mode=\"NEVER\",\n",
    "    is_termination_msg=lambda msg: \"I gotta go\" in msg[\"content\"] or \"Goodbye\" in msg[\"content\"],\n",
    ")  # now with termination message"
   ]
  },
  {
   "cell_type": "code",
   "execution_count": 21,
   "metadata": {},
   "outputs": [
    {
     "name": "stdout",
     "output_type": "stream",
     "text": [
      "\u001b[33mHitesh\u001b[0m (to Sahani):\n",
      "\n",
      "I'm Hitesh. Sahani, let's start the stand-up.\n",
      "\n",
      "--------------------------------------------------------------------------------\n",
      "\u001b[33mSahani\u001b[0m (to Hitesh):\n",
      "\n",
      "Hey Hitesh! Thanks for joining me. So, have you ever noticed how the snooze button on an alarm clock is basically just a trap that convinces you that you're getting more sleep? I mean, you wake up feeling all accomplished that you got to hit the snooze button multiple times, but in reality, you're just delaying the inevitable... that you have to wake up and adult.\n",
      "\n",
      "--------------------------------------------------------------------------------\n",
      "\u001b[33mHitesh\u001b[0m (to Sahani):\n",
      "\n",
      "Absolutely, that snooze button is a sneaky little thing, isn't it? It's like a false promise of more sleep, when in reality it just messes with your sleep cycle and leaves you feeling groggier. It's like a little button that says, \"Here, have some more denial about starting your day!\" It's a love-hate relationship for sure.\n",
      "\n",
      "--------------------------------------------------------------------------------\n",
      "\u001b[33mSahani\u001b[0m (to Hitesh):\n",
      "\n",
      "Exactly! It's like a little enabler of our procrastination, giving us false hope that we can somehow cheat the system and get more sleep without any consequences. But nope, that snooze button is just playing with our minds and making us late for work or appointments. It's a daily struggle between wanting that extra sleep and facing the reality of adulting. Life's little cruel joke, right there on our nightstand.\n",
      "\n",
      "--------------------------------------------------------------------------------\n",
      "\u001b[33mHitesh\u001b[0m (to Sahani):\n",
      "\n",
      "Absolutely, it's like a constant battle between our desire for more sleep and our responsibilities. That snooze button is like a little devil on our shoulder, whispering sweet lies of extended rest while the world is waiting for us to show up and do the things we need to do. It's a daily conundrum of choosing between momentary comfort and the reality check of getting up and getting things done. The struggle is real, my friend.\n",
      "\n",
      "--------------------------------------------------------------------------------\n",
      "\u001b[33mSahani\u001b[0m (to Hitesh):\n",
      "\n",
      "Oh, the eternal struggle between the cozy comfort of our beds and the harsh reality of adult responsibilities. It's a battle that plays out every morning, with that snooze button acting as the referee between our desire for more sleep and the need to face the day. But hey, at least we can all bond over the collective grogginess that comes from hitting that snooze button one too many times. It's like a universal language of \"I just need five more minutes...\".\n",
      "\n",
      "--------------------------------------------------------------------------------\n",
      "\u001b[33mHitesh\u001b[0m (to Sahani):\n",
      "\n",
      "Absolutely, hitting that snooze button is a universal experience that we can all relate to. It's like a moment of unity in our shared struggle against the early morning grind. We may come from different walks of life, different backgrounds, different jobs, but we can all understand the allure of those extra precious minutes of sleep that the snooze button seems to offer. It's a small comfort in a world of responsibilities and deadlines. The snooze button truly is the great equalizer of morning struggles.\n",
      "\n",
      "--------------------------------------------------------------------------------\n",
      "\u001b[33mSahani\u001b[0m (to Hitesh):\n",
      "\n",
      "Well said, Hitesh! The snooze button: bringing people from all walks of life together in the pursuit of a few more minutes of blissful slumber. It's the one thing we can all bond over, regardless of our differences. So, next time you find yourself hitting that snooze button repeatedly, just remember that you're not alone in your struggle. We're all in this groggy journey of resisting the inevitable wake-up call together. Thanks for sharing a laugh with me today. I gotta go.\n",
      "\n",
      "--------------------------------------------------------------------------------\n"
     ]
    }
   ],
   "source": [
    "chat_result = Hitesh.initiate_chat(\n",
    "    recipient=Sahani,\n",
    "    message=\"I'm Hitesh. Sahani, let's start the stand-up.\"\n",
    ")"
   ]
  },
  {
   "cell_type": "code",
   "execution_count": 22,
   "metadata": {},
   "outputs": [
    {
     "name": "stdout",
     "output_type": "stream",
     "text": [
      "\u001b[33mSahani\u001b[0m (to Hitesh):\n",
      "\n",
      "What's last joke we talked about?\n",
      "\n",
      "--------------------------------------------------------------------------------\n",
      "\u001b[33mHitesh\u001b[0m (to Sahani):\n",
      "\n",
      "We were joking about the universal struggle and bond shared by hitting the snooze button repeatedly for that few more minutes of sleep. It's a relatable experience that many of us go through every morning. It was great sharing a laugh with you today!\n",
      "\n",
      "--------------------------------------------------------------------------------\n",
      "\u001b[33mSahani\u001b[0m (to Hitesh):\n",
      "\n",
      "Thanks for the reminder! It was a blast sharing that relatable snooze button struggle with you. Take care, Hitesh, and have a great day ahead! I gotta go.\n",
      "\n",
      "--------------------------------------------------------------------------------\n"
     ]
    }
   ],
   "source": [
    "Sahani.send(message=\"What's last joke we talked about?\", recipient=Hitesh)"
   ]
  },
  {
   "cell_type": "code",
   "execution_count": null,
   "metadata": {},
   "outputs": [],
   "source": []
  }
 ],
 "metadata": {
  "kernelspec": {
   "display_name": "Python 3",
   "language": "python",
   "name": "python3"
  },
  "language_info": {
   "codemirror_mode": {
    "name": "ipython",
    "version": 3
   },
   "file_extension": ".py",
   "mimetype": "text/x-python",
   "name": "python",
   "nbconvert_exporter": "python",
   "pygments_lexer": "ipython3",
   "version": "3.11.9"
  }
 },
 "nbformat": 4,
 "nbformat_minor": 2
}
