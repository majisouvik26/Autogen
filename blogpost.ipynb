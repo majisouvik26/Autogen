{
 "cells": [
  {
   "cell_type": "code",
   "execution_count": 1,
   "metadata": {},
   "outputs": [],
   "source": [
    "from utils import get_openai_api_key\n",
    "OPENAI_API_KEY = get_openai_api_key()\n",
    "llm_config = {\"model\": \"gpt-3.5-turbo\"}\n"
   ]
  },
  {
   "cell_type": "code",
   "execution_count": 10,
   "metadata": {},
   "outputs": [],
   "source": [
    "task = '''\n",
    "       Write a concise but engaging blogpost about\n",
    "       Machine Learning. Make sure the blogpost is\n",
    "       within 100 words.\n",
    "       '''\n"
   ]
  },
  {
   "cell_type": "code",
   "execution_count": 11,
   "metadata": {},
   "outputs": [
    {
     "name": "stdout",
     "output_type": "stream",
     "text": [
      "[autogen.oai.client: 05-29 20:22:16] {129} WARNING - The API key specified is not a valid OpenAI format; it won't work with the OpenAI-hosted model.\n"
     ]
    }
   ],
   "source": [
    "import autogen\n",
    "\n",
    "writer = autogen.AssistantAgent(\n",
    "    name=\"Writer\",\n",
    "    system_message=\"You are a writer. You write engaging and concise blogpost (with title) on given topics. You must polish your writing based on the feedback you receive and give a refined version. Only return your final work without additional comments.\",\n",
    "    llm_config=llm_config,\n",
    ")"
   ]
  },
  {
   "cell_type": "code",
   "execution_count": 12,
   "metadata": {},
   "outputs": [],
   "source": [
    "reply = writer.generate_reply(messages=[{\"content\": task, \"role\": \"user\"}])"
   ]
  },
  {
   "cell_type": "code",
   "execution_count": 13,
   "metadata": {},
   "outputs": [
    {
     "name": "stdout",
     "output_type": "stream",
     "text": [
      "Title: \"Demystifying Machine Learning: A Quick Guide\"\n",
      "\n",
      "Are you curious about how Netflix suggests your next binge-watch or how your phone unlocks with your face? It's all thanks to Machine Learning! This cutting-edge technology enables computers to learn from data and make intelligent decisions without being explicitly programmed. From self-driving cars to virtual assistants, the applications are endless. Dive into the world of Machine Learning and discover how it powers the innovative tech shaping our future. Join the revolution of smart technology and unlock endless possibilities with Machine Learning. Let's demystify this fascinating field together!\n"
     ]
    }
   ],
   "source": [
    "print(reply)"
   ]
  },
  {
   "cell_type": "markdown",
   "metadata": {},
   "source": [
    "Adding Reflection"
   ]
  },
  {
   "cell_type": "code",
   "execution_count": 14,
   "metadata": {},
   "outputs": [
    {
     "name": "stdout",
     "output_type": "stream",
     "text": [
      "[autogen.oai.client: 05-29 20:22:20] {129} WARNING - The API key specified is not a valid OpenAI format; it won't work with the OpenAI-hosted model.\n"
     ]
    }
   ],
   "source": [
    "# crtic agent to reflect on the work of the writer agent\n",
    "\n",
    "critic = autogen.AssistantAgent(\n",
    "    name=\"Critic\",\n",
    "    is_termination_msg=lambda x: x.get(\"content\", \"\").find(\"TERMINATE\") >= 0,\n",
    "    llm_config=llm_config,\n",
    "    system_message=\"You are a critic. You review the work of the writer and provide constructive feedback alongwith a bit of negatives to help improve the quality of the content.\",\n",
    ")"
   ]
  },
  {
   "cell_type": "code",
   "execution_count": 15,
   "metadata": {},
   "outputs": [
    {
     "name": "stdout",
     "output_type": "stream",
     "text": [
      "\u001b[33mCritic\u001b[0m (to Writer):\n",
      "\n",
      "\n",
      "       Write a concise but engaging blogpost about\n",
      "       Machine Learning. Make sure the blogpost is\n",
      "       within 100 words.\n",
      "       \n",
      "\n",
      "--------------------------------------------------------------------------------\n",
      "\u001b[33mWriter\u001b[0m (to Critic):\n",
      "\n",
      "Title: \"Demystifying Machine Learning: A Quick Guide\"\n",
      "\n",
      "Are you curious about how Netflix suggests your next binge-watch or how your phone unlocks with your face? It's all thanks to Machine Learning! This cutting-edge technology enables computers to learn from data and make intelligent decisions without being explicitly programmed. From self-driving cars to virtual assistants, the applications are endless. Dive into the world of Machine Learning and discover how it powers the innovative tech shaping our future. Join the revolution of smart technology and unlock endless possibilities with Machine Learning. Let's demystify this fascinating field together!\n",
      "\n",
      "--------------------------------------------------------------------------------\n",
      "\u001b[33mCritic\u001b[0m (to Writer):\n",
      "\n",
      "The title \"Demystifying Machine Learning: A Quick Guide\" sets the tone for a beginner-friendly approach to a complex topic. The blogpost effectively captures the reader's attention by posing intriguing questions about everyday technologies powered by Machine Learning. The conversational and engaging style makes the content accessible to a wider audience. However, to enhance the quality of the post, consider providing a brief definition of Machine Learning for readers who are unfamiliar with the term. Additionally, incorporating a real-life example or case study could further illustrate the practical applications of Machine Learning. Overall, a great start with room for minor improvements. Keep up the good work!\n",
      "\n",
      "--------------------------------------------------------------------------------\n",
      "\u001b[33mWriter\u001b[0m (to Critic):\n",
      "\n",
      "Title: \"Demystifying Machine Learning: A Quick Guide\"\n",
      "\n",
      "Curious about how Netflix suggests your next binge-watch or how your phone unlocks with your face? Let's explore Machine Learning! This innovative field allows computers to learn from data and make decisions independently. In simple terms, Machine Learning enables technology to adapt and improve based on experiences without explicit programming instructions. Imagine self-driving cars and virtual assistants - all thanks to Machine Learning. By unraveling the mysteries behind this exciting technology, we can understand how it shapes our daily lives and influences the future. Join the conversation and discover the wonders of Machine Learning!\n",
      "\n",
      "--------------------------------------------------------------------------------\n"
     ]
    }
   ],
   "source": [
    "res = critic.initiate_chat(\n",
    "    recipient=writer,\n",
    "    message=task,\n",
    "    max_turns=2,\n",
    "    summary_method=\"reflection_with_llm\",\n",
    "    summary_prompt=\"Summarize the conversation\",\n",
    ")"
   ]
  },
  {
   "cell_type": "markdown",
   "metadata": {},
   "source": [
    "Nested Chat"
   ]
  },
  {
   "cell_type": "code",
   "execution_count": 16,
   "metadata": {},
   "outputs": [
    {
     "name": "stdout",
     "output_type": "stream",
     "text": [
      "[autogen.oai.client: 05-29 20:26:05] {129} WARNING - The API key specified is not a valid OpenAI format; it won't work with the OpenAI-hosted model.\n"
     ]
    }
   ],
   "source": [
    "SEO_reviewer = autogen.AssistantAgent(\n",
    "    name=\"SEO Reviewer\",\n",
    "    llm_config=llm_config,\n",
    "    system_message=\"You are an SEO reviewer, known for your ability to optimize content for search engines,ensuring that it ranks well and attracts organic traffic. Make sure your suggestion is concise (within 3 bullet points), concrete and to the point. Begin the review by stating your role.\",\n",
    ")\n"
   ]
  },
  {
   "cell_type": "code",
   "execution_count": 18,
   "metadata": {},
   "outputs": [
    {
     "name": "stdout",
     "output_type": "stream",
     "text": [
      "[autogen.oai.client: 05-29 20:26:47] {129} WARNING - The API key specified is not a valid OpenAI format; it won't work with the OpenAI-hosted model.\n"
     ]
    }
   ],
   "source": [
    "legal_reviewer = autogen.AssistantAgent(\n",
    "    name=\"Legal Reviewer\",\n",
    "    llm_config=llm_config,\n",
    "    system_message=\"You are a legal reviewer, known for your ability to ensure that content is legally compliant and free from any potential legal issues. Make sure your suggestion is concise (within 3 bullet points), concrete and to the point. Begin the review by stating your role.\",\n",
    ")"
   ]
  },
  {
   "cell_type": "code",
   "execution_count": 19,
   "metadata": {},
   "outputs": [
    {
     "name": "stdout",
     "output_type": "stream",
     "text": [
      "[autogen.oai.client: 05-29 20:27:39] {129} WARNING - The API key specified is not a valid OpenAI format; it won't work with the OpenAI-hosted model.\n"
     ]
    }
   ],
   "source": [
    "ethics_reviewer = autogen.AssistantAgent(\n",
    "    name=\"Ethics Reviewer\",\n",
    "    llm_config=llm_config,\n",
    "    system_message=\"You are an ethics reviewer, known for your ability to ensure that content is ethically sound and free from any potential ethical issues. Make sure your suggestion is concise (within 3 bullet points), concrete and to the point. Begin the review by stating your role. \",\n",
    ")"
   ]
  },
  {
   "cell_type": "code",
   "execution_count": 20,
   "metadata": {},
   "outputs": [
    {
     "name": "stdout",
     "output_type": "stream",
     "text": [
      "[autogen.oai.client: 05-29 20:28:04] {129} WARNING - The API key specified is not a valid OpenAI format; it won't work with the OpenAI-hosted model.\n"
     ]
    }
   ],
   "source": [
    "meta_reviewer = autogen.AssistantAgent(\n",
    "    name=\"Meta Reviewer\",\n",
    "    llm_config=llm_config,\n",
    "    system_message=\"You are a meta reviewer, you aggragate and review the work of other reviewers and give a final suggestion on the content.\",\n",
    ")"
   ]
  },
  {
   "cell_type": "code",
   "execution_count": 24,
   "metadata": {},
   "outputs": [],
   "source": [
    "def reflection_message(recipient, messages, sender, config):\n",
    "    msg = recipient.chat_messages_for_summary(sender)\n",
    "    last_msg_content=msg[-1]['content']\n",
    "    return f'''Review the following content. \n",
    "            \\n\\n {last_msg_content}'''\n",
    "\n",
    "review_chats = [\n",
    "    {\n",
    "     \"recipient\": SEO_reviewer, \n",
    "     \"message\": reflection_message, \n",
    "     \"summary_method\": \"reflection_with_llm\",\n",
    "     \"summary_args\": {\"summary_prompt\" : \n",
    "        \"Return review into as JSON object only:\"\n",
    "        \"{'Reviewer': '', 'Review': ''}. Here Reviewer should be your role\",},\n",
    "     \"max_turns\": 1},\n",
    "    {\n",
    "    \"recipient\": legal_reviewer, \"message\": reflection_message, \n",
    "     \"summary_method\": \"reflection_with_llm\",\n",
    "     \"summary_args\": {\"summary_prompt\" : \n",
    "        \"Return review into as JSON object only:\"\n",
    "        \"{'Reviewer': '', 'Review': ''}.\",},\n",
    "     \"max_turns\": 1},\n",
    "    {\"recipient\": ethics_reviewer, \"message\": reflection_message, \n",
    "     \"summary_method\": \"reflection_with_llm\",\n",
    "     \"summary_args\": {\"summary_prompt\" : \n",
    "        \"Return review into as JSON object only:\"\n",
    "        \"{'reviewer': '', 'review': ''}\",},\n",
    "     \"max_turns\": 1},\n",
    "     {\"recipient\": meta_reviewer, \n",
    "      \"message\": \"Aggregrate feedback from all reviewers and give final suggestions on the writing.\", \n",
    "     \"max_turns\": 1},\n",
    "]\n"
   ]
  },
  {
   "cell_type": "code",
   "execution_count": 25,
   "metadata": {},
   "outputs": [],
   "source": [
    "critic.register_nested_chats(\n",
    "    review_chats,\n",
    "    trigger=writer,\n",
    ")"
   ]
  },
  {
   "cell_type": "code",
   "execution_count": 26,
   "metadata": {},
   "outputs": [
    {
     "name": "stdout",
     "output_type": "stream",
     "text": [
      "\u001b[33mCritic\u001b[0m (to Writer):\n",
      "\n",
      "\n",
      "       Write a concise but engaging blogpost about\n",
      "       Machine Learning. Make sure the blogpost is\n",
      "       within 100 words.\n",
      "       \n",
      "\n",
      "--------------------------------------------------------------------------------\n",
      "\u001b[33mWriter\u001b[0m (to Critic):\n",
      "\n",
      "Title: \"Demystifying Machine Learning: A Quick Guide\"\n",
      "\n",
      "Are you curious about how Netflix suggests your next binge-watch or how your phone unlocks with your face? It's all thanks to Machine Learning! This cutting-edge technology enables computers to learn from data and make intelligent decisions without being explicitly programmed. From self-driving cars to virtual assistants, the applications are endless. Dive into the world of Machine Learning and discover how it powers the innovative tech shaping our future. Join the revolution of smart technology and unlock endless possibilities with Machine Learning. Let's demystify this fascinating field together!\n",
      "\n",
      "--------------------------------------------------------------------------------\n",
      "\u001b[34m\n",
      "********************************************************************************\u001b[0m\n",
      "\u001b[34mStarting a new chat....\u001b[0m\n",
      "\u001b[34m\n",
      "********************************************************************************\u001b[0m\n",
      "\u001b[33mCritic\u001b[0m (to SEO Reviewer):\n",
      "\n",
      "Review the following content. \n",
      "            \n",
      "\n",
      " Title: \"Demystifying Machine Learning: A Quick Guide\"\n",
      "\n",
      "Are you curious about how Netflix suggests your next binge-watch or how your phone unlocks with your face? It's all thanks to Machine Learning! This cutting-edge technology enables computers to learn from data and make intelligent decisions without being explicitly programmed. From self-driving cars to virtual assistants, the applications are endless. Dive into the world of Machine Learning and discover how it powers the innovative tech shaping our future. Join the revolution of smart technology and unlock endless possibilities with Machine Learning. Let's demystify this fascinating field together!\n",
      "\n",
      "--------------------------------------------------------------------------------\n",
      "\u001b[33mSEO Reviewer\u001b[0m (to Critic):\n",
      "\n",
      "As an SEO reviewer, I would recommend the following for optimizing the content:\n",
      "\n",
      "1. **Targeted Keywords:** Incorporate relevant keywords like \"Machine Learning basics,\" \"applications of Machine Learning,\" and \"future of technology\" throughout the content to improve search engine visibility.\n",
      "\n",
      "2. **Meta Description:** Craft a concise and descriptive meta description highlighting key points like \"How Machine Learning powers modern technology\" to enhance click-through rates from search engine results.\n",
      "\n",
      "3. **Header Tags:** Utilize header tags like H1 for the title and H2 for subheadings with keywords such as \"Machine Learning applications\" to signal the content's structure and improve search ranking for those terms.\n",
      "\n",
      "--------------------------------------------------------------------------------\n",
      "\u001b[34m\n",
      "********************************************************************************\u001b[0m\n",
      "\u001b[34mStarting a new chat....\u001b[0m\n",
      "\u001b[34m\n",
      "********************************************************************************\u001b[0m\n",
      "\u001b[33mCritic\u001b[0m (to Legal Reviewer):\n",
      "\n",
      "Review the following content. \n",
      "            \n",
      "\n",
      " Title: \"Demystifying Machine Learning: A Quick Guide\"\n",
      "\n",
      "Are you curious about how Netflix suggests your next binge-watch or how your phone unlocks with your face? It's all thanks to Machine Learning! This cutting-edge technology enables computers to learn from data and make intelligent decisions without being explicitly programmed. From self-driving cars to virtual assistants, the applications are endless. Dive into the world of Machine Learning and discover how it powers the innovative tech shaping our future. Join the revolution of smart technology and unlock endless possibilities with Machine Learning. Let's demystify this fascinating field together!\n",
      "Context: \n",
      "{'Reviewer': 'SEO Reviewer', 'Review': 'The content could benefit from incorporating targeted keywords, crafting a descriptive meta description, and utilizing header tags with relevant keywords to improve search engine visibility and search ranking.'}\n",
      "\n",
      "--------------------------------------------------------------------------------\n",
      "\u001b[33mLegal Reviewer\u001b[0m (to Critic):\n",
      "\n",
      "As a Legal Reviewer: \n",
      "\n",
      "1. Ensure that the content accurately represents the capabilities and limitations of Machine Learning to avoid any misleading or deceptive claims.\n",
      "   \n",
      "2. Verify that there are no trademark infringements or misuse of proprietary terms related to Machine Learning in the title or content.\n",
      "   \n",
      "3. Check for any potential copyright issues related to the use of specific examples or descriptions of Machine Learning applications.\n",
      "\n",
      "--------------------------------------------------------------------------------\n",
      "\u001b[34m\n",
      "********************************************************************************\u001b[0m\n",
      "\u001b[34mStarting a new chat....\u001b[0m\n",
      "\u001b[34m\n",
      "********************************************************************************\u001b[0m\n",
      "\u001b[33mCritic\u001b[0m (to Ethics Reviewer):\n",
      "\n",
      "Review the following content. \n",
      "            \n",
      "\n",
      " Title: \"Demystifying Machine Learning: A Quick Guide\"\n",
      "\n",
      "Are you curious about how Netflix suggests your next binge-watch or how your phone unlocks with your face? It's all thanks to Machine Learning! This cutting-edge technology enables computers to learn from data and make intelligent decisions without being explicitly programmed. From self-driving cars to virtual assistants, the applications are endless. Dive into the world of Machine Learning and discover how it powers the innovative tech shaping our future. Join the revolution of smart technology and unlock endless possibilities with Machine Learning. Let's demystify this fascinating field together!\n",
      "Context: \n",
      "{'Reviewer': 'SEO Reviewer', 'Review': 'The content could benefit from incorporating targeted keywords, crafting a descriptive meta description, and utilizing header tags with relevant keywords to improve search engine visibility and search ranking.'}\n",
      "{'Reviewer': 'Legal Reviewer', 'Review': '1. Ensure that the content accurately represents the capabilities and limitations of Machine Learning to avoid any misleading or deceptive claims. 2. Verify that there are no trademark infringements or misuse of proprietary terms related to Machine Learning in the title or content. 3. Check for any potential copyright issues related to the use of specific examples or descriptions of Machine Learning applications.'}\n",
      "\n",
      "--------------------------------------------------------------------------------\n",
      "\u001b[33mEthics Reviewer\u001b[0m (to Critic):\n",
      "\n",
      "As an ethics reviewer, I suggest the following regarding the content \"Demystifying Machine Learning: A Quick Guide\":\n",
      "\n",
      "- Ensure that the content provides accurate and balanced information about Machine Learning to avoid exaggeration or misrepresentation of its capabilities.\n",
      "- Verify that the examples and applications of Machine Learning mentioned in the content are portrayed ethically and do not promote any bias or stereotypes.\n",
      "- Double-check that there are no instances of plagiarism or unauthorized use of copyrighted material in the content related to Machine Learning.\n",
      "\n",
      "--------------------------------------------------------------------------------\n",
      "\u001b[34m\n",
      "********************************************************************************\u001b[0m\n",
      "\u001b[34mStarting a new chat....\u001b[0m\n",
      "\u001b[34m\n",
      "********************************************************************************\u001b[0m\n",
      "\u001b[33mCritic\u001b[0m (to Meta Reviewer):\n",
      "\n",
      "Aggregrate feedback from all reviewers and give final suggestions on the writing.\n",
      "Context: \n",
      "{'Reviewer': 'SEO Reviewer', 'Review': 'The content could benefit from incorporating targeted keywords, crafting a descriptive meta description, and utilizing header tags with relevant keywords to improve search engine visibility and search ranking.'}\n",
      "{'Reviewer': 'Legal Reviewer', 'Review': '1. Ensure that the content accurately represents the capabilities and limitations of Machine Learning to avoid any misleading or deceptive claims. 2. Verify that there are no trademark infringements or misuse of proprietary terms related to Machine Learning in the title or content. 3. Check for any potential copyright issues related to the use of specific examples or descriptions of Machine Learning applications.'}\n",
      "{'reviewer': 'Ethics Reviewer', 'review': '- Ensure that the content provides accurate and balanced information about Machine Learning to avoid exaggeration or misrepresentation of its capabilities.\\n- Verify that the examples and applications of Machine Learning mentioned in the content are portrayed ethically and do not promote any bias or stereotypes.\\n- Double-check that there are no instances of plagiarism or unauthorized use of copyrighted material in the content related to Machine Learning.'}\n",
      "\n",
      "--------------------------------------------------------------------------------\n",
      "\u001b[33mMeta Reviewer\u001b[0m (to Critic):\n",
      "\n",
      "After aggregating the feedback from the different reviewers, here are some final suggestions for the writing:\n",
      "\n",
      "1. Incorporate targeted keywords: Ensure that relevant keywords related to Machine Learning are strategically included throughout the content to improve search engine visibility.\n",
      "\n",
      "2. Craft a descriptive meta description: Create a compelling and informative meta description that accurately reflects the content of the article and includes key keywords for better search ranking.\n",
      "\n",
      "3. Utilize header tags with relevant keywords: Make use of header tags to organize the content and include important keywords in these tags to further boost search engine optimization.\n",
      "\n",
      "4. Accurately represent Machine Learning capabilities and limitations: Provide a balanced and accurate representation of Machine Learning to avoid any misleading or deceptive claims about its capabilities.\n",
      "\n",
      "5. Avoid trademark infringements and misuse of proprietary terms: Check for any potential trademark infringements or misuse of proprietary terms related to Machine Learning in the title and content.\n",
      "\n",
      "6. Ensure ethical portrayal of examples and applications: Verify that examples and applications of Machine Learning mentioned in the content are portrayed ethically, without promoting bias or stereotypes.\n",
      "\n",
      "7. Check for plagiarism and unauthorized use of copyrighted material: Double-check the content to ensure there are no instances of plagiarism or unauthorized use of copyrighted material related to Machine Learning.\n",
      "\n",
      "By following these suggestions, the writing can be enhanced in terms of search engine optimization, accuracy, ethics, and legal considerations related to Machine Learning.\n",
      "\n",
      "--------------------------------------------------------------------------------\n",
      "\u001b[33mCritic\u001b[0m (to Writer):\n",
      "\n",
      "After aggregating the feedback from the different reviewers, here are some final suggestions for the writing:\n",
      "\n",
      "1. Incorporate targeted keywords: Ensure that relevant keywords related to Machine Learning are strategically included throughout the content to improve search engine visibility.\n",
      "\n",
      "2. Craft a descriptive meta description: Create a compelling and informative meta description that accurately reflects the content of the article and includes key keywords for better search ranking.\n",
      "\n",
      "3. Utilize header tags with relevant keywords: Make use of header tags to organize the content and include important keywords in these tags to further boost search engine optimization.\n",
      "\n",
      "4. Accurately represent Machine Learning capabilities and limitations: Provide a balanced and accurate representation of Machine Learning to avoid any misleading or deceptive claims about its capabilities.\n",
      "\n",
      "5. Avoid trademark infringements and misuse of proprietary terms: Check for any potential trademark infringements or misuse of proprietary terms related to Machine Learning in the title and content.\n",
      "\n",
      "6. Ensure ethical portrayal of examples and applications: Verify that examples and applications of Machine Learning mentioned in the content are portrayed ethically, without promoting bias or stereotypes.\n",
      "\n",
      "7. Check for plagiarism and unauthorized use of copyrighted material: Double-check the content to ensure there are no instances of plagiarism or unauthorized use of copyrighted material related to Machine Learning.\n",
      "\n",
      "By following these suggestions, the writing can be enhanced in terms of search engine optimization, accuracy, ethics, and legal considerations related to Machine Learning.\n",
      "\n",
      "--------------------------------------------------------------------------------\n",
      "\u001b[33mWriter\u001b[0m (to Critic):\n",
      "\n",
      "Title: \"Unveiling Machine Learning: Your Essential Guide\"\n",
      "\n",
      "Unlock the secrets behind Machine Learning, the driving force behind self-driving cars, virtual assistants, and personalized recommendations. Discover how this revolutionary technology learns from data to make autonomous decisions. Join the tech evolution and explore the endless possibilities of Machine Learning. From predictive analytics to image recognition, its applications are boundless. Let's delve into the realm of Machine Learning together and demystify this complex field. Embrace the power of intelligent machines shaping our future!\n",
      "\n",
      "--------------------------------------------------------------------------------\n"
     ]
    }
   ],
   "source": [
    "res = critic.initiate_chat(\n",
    "    recipient=writer,\n",
    "    message=task,\n",
    "    max_turns=2,\n",
    "    summary_method=\"last_msg\"\n",
    ")"
   ]
  },
  {
   "cell_type": "code",
   "execution_count": 27,
   "metadata": {},
   "outputs": [
    {
     "name": "stdout",
     "output_type": "stream",
     "text": [
      "Title: \"Unveiling Machine Learning: Your Essential Guide\"\n",
      "\n",
      "Unlock the secrets behind Machine Learning, the driving force behind self-driving cars, virtual assistants, and personalized recommendations. Discover how this revolutionary technology learns from data to make autonomous decisions. Join the tech evolution and explore the endless possibilities of Machine Learning. From predictive analytics to image recognition, its applications are boundless. Let's delve into the realm of Machine Learning together and demystify this complex field. Embrace the power of intelligent machines shaping our future!\n"
     ]
    }
   ],
   "source": [
    "print(res.summary)"
   ]
  },
  {
   "cell_type": "code",
   "execution_count": null,
   "metadata": {},
   "outputs": [],
   "source": []
  }
 ],
 "metadata": {
  "kernelspec": {
   "display_name": "Python 3",
   "language": "python",
   "name": "python3"
  },
  "language_info": {
   "codemirror_mode": {
    "name": "ipython",
    "version": 3
   },
   "file_extension": ".py",
   "mimetype": "text/x-python",
   "name": "python",
   "nbconvert_exporter": "python",
   "pygments_lexer": "ipython3",
   "version": "3.11.9"
  }
 },
 "nbformat": 4,
 "nbformat_minor": 2
}
